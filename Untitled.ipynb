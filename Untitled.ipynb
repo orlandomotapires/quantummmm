{
 "cells": [
  {
   "cell_type": "code",
   "execution_count": 1,
   "id": "826ddb55",
   "metadata": {},
   "outputs": [],
   "source": [
    "import qiskit"
   ]
  },
  {
   "cell_type": "code",
   "execution_count": 6,
   "id": "a52ec89d",
   "metadata": {},
   "outputs": [
    {
     "data": {
      "text/plain": [
       "{'qiskit': '0.45.1', 'qiskit-aer': None, 'qiskit-ignis': None, 'qiskit-ibmq-provider': None, 'qiskit-nature': None, 'qiskit-finance': None, 'qiskit-optimization': None, 'qiskit-machine-learning': None}"
      ]
     },
     "execution_count": 6,
     "metadata": {},
     "output_type": "execute_result"
    }
   ],
   "source": [
    "qiskit.__qiskit_version__"
   ]
  },
  {
   "cell_type": "code",
   "execution_count": 7,
   "id": "7394ce6d",
   "metadata": {
    "scrolled": true
   },
   "outputs": [
    {
     "name": "stdout",
     "output_type": "stream",
     "text": [
      "Defaulting to user installation because normal site-packages is not writeable\n",
      "Collecting qiskit-ibmq-provider\n",
      "  Downloading qiskit_ibmq_provider-0.20.2-py3-none-any.whl (241 kB)\n",
      "\u001b[2K     \u001b[38;2;114;156;31m━━━━━━━━━━━━━━━━━━━━━━━━━━━━━━━━━━━━━━━\u001b[0m \u001b[32m241.5/241.5 kB\u001b[0m \u001b[31m3.5 MB/s\u001b[0m eta \u001b[36m0:00:00\u001b[0m[31m1.9 MB/s\u001b[0m eta \u001b[36m0:00:01\u001b[0m\n",
      "\u001b[?25hRequirement already satisfied: qiskit-terra>=0.18.0 in /home/orlandomotapires/.local/lib/python3.10/site-packages (from qiskit-ibmq-provider) (0.45.1)\n",
      "Requirement already satisfied: requests>=2.19 in /home/orlandomotapires/.local/lib/python3.10/site-packages (from qiskit-ibmq-provider) (2.31.0)\n",
      "Collecting requests-ntlm<=1.1.0 (from qiskit-ibmq-provider)\n",
      "  Downloading requests_ntlm-1.1.0-py2.py3-none-any.whl (5.7 kB)\n",
      "Requirement already satisfied: numpy<1.24 in /home/orlandomotapires/.local/lib/python3.10/site-packages (from qiskit-ibmq-provider) (1.23.5)\n",
      "Requirement already satisfied: urllib3>=1.21.1 in /home/orlandomotapires/.local/lib/python3.10/site-packages (from qiskit-ibmq-provider) (2.1.0)\n",
      "Requirement already satisfied: python-dateutil>=2.8.0 in /home/orlandomotapires/.local/lib/python3.10/site-packages (from qiskit-ibmq-provider) (2.8.2)\n",
      "Requirement already satisfied: websocket-client>=1.5.1 in /home/orlandomotapires/.local/lib/python3.10/site-packages (from qiskit-ibmq-provider) (1.7.0)\n",
      "Requirement already satisfied: websockets>=10.0 in /home/orlandomotapires/.local/lib/python3.10/site-packages (from qiskit-ibmq-provider) (12.0)\n",
      "Requirement already satisfied: six>=1.5 in /usr/lib/python3/dist-packages (from python-dateutil>=2.8.0->qiskit-ibmq-provider) (1.16.0)\n",
      "Requirement already satisfied: rustworkx>=0.13.0 in /home/orlandomotapires/.local/lib/python3.10/site-packages (from qiskit-terra>=0.18.0->qiskit-ibmq-provider) (0.13.2)\n",
      "Requirement already satisfied: ply>=3.10 in /home/orlandomotapires/.local/lib/python3.10/site-packages (from qiskit-terra>=0.18.0->qiskit-ibmq-provider) (3.11)\n",
      "Requirement already satisfied: psutil>=5 in /home/orlandomotapires/.local/lib/python3.10/site-packages (from qiskit-terra>=0.18.0->qiskit-ibmq-provider) (5.9.5)\n",
      "Requirement already satisfied: scipy>=1.5 in /home/orlandomotapires/.local/lib/python3.10/site-packages (from qiskit-terra>=0.18.0->qiskit-ibmq-provider) (1.11.3)\n",
      "Requirement already satisfied: sympy>=1.3 in /home/orlandomotapires/.local/lib/python3.10/site-packages (from qiskit-terra>=0.18.0->qiskit-ibmq-provider) (1.12)\n",
      "Requirement already satisfied: dill>=0.3 in /home/orlandomotapires/.local/lib/python3.10/site-packages (from qiskit-terra>=0.18.0->qiskit-ibmq-provider) (0.3.7)\n",
      "Requirement already satisfied: stevedore>=3.0.0 in /home/orlandomotapires/.local/lib/python3.10/site-packages (from qiskit-terra>=0.18.0->qiskit-ibmq-provider) (5.1.0)\n",
      "Requirement already satisfied: symengine!=0.10.0,>=0.9 in /home/orlandomotapires/.local/lib/python3.10/site-packages (from qiskit-terra>=0.18.0->qiskit-ibmq-provider) (0.11.0)\n",
      "Requirement already satisfied: typing-extensions in /home/orlandomotapires/.local/lib/python3.10/site-packages (from qiskit-terra>=0.18.0->qiskit-ibmq-provider) (4.5.0)\n",
      "Requirement already satisfied: charset-normalizer<4,>=2 in /home/orlandomotapires/.local/lib/python3.10/site-packages (from requests>=2.19->qiskit-ibmq-provider) (3.3.2)\n",
      "Requirement already satisfied: idna<4,>=2.5 in /usr/lib/python3/dist-packages (from requests>=2.19->qiskit-ibmq-provider) (3.3)\n",
      "Requirement already satisfied: certifi>=2017.4.17 in /usr/lib/python3/dist-packages (from requests>=2.19->qiskit-ibmq-provider) (2020.6.20)\n",
      "Collecting ntlm-auth>=1.0.2 (from requests-ntlm<=1.1.0->qiskit-ibmq-provider)\n",
      "  Downloading ntlm_auth-1.5.0-py2.py3-none-any.whl (29 kB)\n",
      "Requirement already satisfied: cryptography>=1.3 in /usr/lib/python3/dist-packages (from requests-ntlm<=1.1.0->qiskit-ibmq-provider) (3.4.8)\n",
      "Requirement already satisfied: pbr!=2.1.0,>=2.0.0 in /home/orlandomotapires/.local/lib/python3.10/site-packages (from stevedore>=3.0.0->qiskit-terra>=0.18.0->qiskit-ibmq-provider) (6.0.0)\n",
      "Requirement already satisfied: mpmath>=0.19 in /home/orlandomotapires/.local/lib/python3.10/site-packages (from sympy>=1.3->qiskit-terra>=0.18.0->qiskit-ibmq-provider) (1.3.0)\n",
      "Installing collected packages: ntlm-auth, requests-ntlm, qiskit-ibmq-provider\n",
      "  Attempting uninstall: requests-ntlm\n",
      "    Found existing installation: requests-ntlm 1.2.0\n",
      "    Uninstalling requests-ntlm-1.2.0:\n",
      "      Successfully uninstalled requests-ntlm-1.2.0\n",
      "Successfully installed ntlm-auth-1.5.0 qiskit-ibmq-provider-0.20.2 requests-ntlm-1.1.0\n",
      "\u001b[33mWARNING: There was an error checking the latest version of pip.\u001b[0m\u001b[33m\n",
      "\u001b[0m"
     ]
    }
   ],
   "source": []
  },
  {
   "cell_type": "code",
   "execution_count": 8,
   "id": "5a3150e3",
   "metadata": {},
   "outputs": [],
   "source": [
    "from qiskit import IBMQ"
   ]
  },
  {
   "cell_type": "code",
   "execution_count": 9,
   "id": "f2019958",
   "metadata": {},
   "outputs": [
    {
     "name": "stderr",
     "output_type": "stream",
     "text": [
      "/tmp/ipykernel_18713/1849792040.py:1: DeprecationWarning: The package qiskit.providers.ibmq is being deprecated. Please see https://ibm.biz/provider_migration_guide to get instructions on how to migrate to qiskit-ibm-provider (https://github.com/Qiskit/qiskit-ibm-provider) and qiskit-ibm-runtime (https://github.com/Qiskit/qiskit-ibm-runtime).\n",
      "  IBMQ.save_account('4d6f6014883afc62a7260dd3cd89b28bae569fa1e1f3d475bdce14de3a7d306e62b0b32131d125c306d813986db227571639e98b14ce5aa061d9f53d1fe8beda')\n",
      "/tmp/ipykernel_18713/1849792040.py:1: DeprecationWarning: The qiskit.IBMQ entrypoint and the qiskit-ibmq-provider package (accessible from 'qiskit.providers.ibmq`) are deprecated and will be removed in a future release. Instead you should use the qiskit-ibm-provider package which is accessible from 'qiskit_ibm_provider'. You can install it with 'pip install qiskit_ibm_provider'. Just replace 'qiskit.IBMQ' with 'qiskit_ibm_provider.IBMProvider'\n",
      "  IBMQ.save_account('4d6f6014883afc62a7260dd3cd89b28bae569fa1e1f3d475bdce14de3a7d306e62b0b32131d125c306d813986db227571639e98b14ce5aa061d9f53d1fe8beda')\n"
     ]
    }
   ],
   "source": [
    "IBMQ.save_account('4d6f6014883afc62a7260dd3cd89b28bae569fa1e1f3d475bdce14de3a7d306e62b0b32131d125c306d813986db227571639e98b14ce5aa061d9f53d1fe8beda')"
   ]
  },
  {
   "cell_type": "code",
   "execution_count": 10,
   "id": "8d78bd5b",
   "metadata": {},
   "outputs": [
    {
     "data": {
      "text/plain": [
       "<AccountProvider for IBMQ(hub='ibm-q', group='open', project='main')>"
      ]
     },
     "execution_count": 10,
     "metadata": {},
     "output_type": "execute_result"
    }
   ],
   "source": [
    "IBMQ.load_account()"
   ]
  },
  {
   "cell_type": "code",
   "execution_count": null,
   "id": "160a3256",
   "metadata": {},
   "outputs": [],
   "source": []
  }
 ],
 "metadata": {
  "kernelspec": {
   "display_name": "Python 3 (ipykernel)",
   "language": "python",
   "name": "python3"
  },
  "language_info": {
   "codemirror_mode": {
    "name": "ipython",
    "version": 3
   },
   "file_extension": ".py",
   "mimetype": "text/x-python",
   "name": "python",
   "nbconvert_exporter": "python",
   "pygments_lexer": "ipython3",
   "version": "3.10.12"
  }
 },
 "nbformat": 4,
 "nbformat_minor": 5
}
